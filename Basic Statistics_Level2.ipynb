{
  "cells": [
    {
      "cell_type": "markdown",
      "metadata": {
        "id": "HeBVJBKnzKH4"
      },
      "source": [
        "# Set 1_Descriptive statistics Probability"
      ]
    },
    {
      "cell_type": "markdown",
      "metadata": {},
      "source": [
        "## Q1"
      ]
    },
    {
      "cell_type": "code",
      "execution_count": 70,
      "metadata": {},
      "outputs": [
        {
          "data": {
            "text/plain": [
              "' Look at the data given below. Plot the data, find the outliers and find out  μ,σ,σ^2\\nName of company\\tMeasure X\\nAllied Signal\\t24.23%\\nBankers Trust\\t25.53%\\nGeneral Mills\\t25.41%\\nITT Industries\\t24.14%\\nJ.P.Morgan & Co.\\t29.62%\\nLehman Brothers\\t28.25%\\nMarriott\\t25.81%\\nMCI\\t24.39%\\nMerrill Lynch\\t40.26%\\nMicrosoft\\t32.95%\\nMorgan Stanley\\t91.36%\\nSun Microsystems\\t25.99%\\nTravelers\\t39.42%\\nUS Airways\\t26.71%\\nWarner-Lambert\\t35.00% '"
            ]
          },
          "execution_count": 70,
          "metadata": {},
          "output_type": "execute_result"
        }
      ],
      "source": [
        "''' Look at the data given below. Plot the data, find the outliers and find out  μ,σ,σ^2\n",
        "Name of company\tMeasure X\n",
        "Allied Signal\t24.23%\n",
        "Bankers Trust\t25.53%\n",
        "General Mills\t25.41%\n",
        "ITT Industries\t24.14%\n",
        "J.P.Morgan & Co.\t29.62%\n",
        "Lehman Brothers\t28.25%\n",
        "Marriott\t25.81%\n",
        "MCI\t24.39%\n",
        "Merrill Lynch\t40.26%\n",
        "Microsoft\t32.95%\n",
        "Morgan Stanley\t91.36%\n",
        "Sun Microsystems\t25.99%\n",
        "Travelers\t39.42%\n",
        "US Airways\t26.71%\n",
        "Warner-Lambert\t35.00% '''\n"
      ]
    },
    {
      "cell_type": "code",
      "execution_count": 71,
      "metadata": {
        "id": "dNFxCB2FzNqR"
      },
      "outputs": [],
      "source": [
        "import pandas as pd\n",
        "import matplotlib.pyplot as plt\n",
        "import seaborn as sns\n",
        "import numpy as np"
      ]
    },
    {
      "cell_type": "code",
      "execution_count": 72,
      "metadata": {
        "colab": {
          "base_uri": "https://localhost:8080/",
          "height": 519
        },
        "id": "RE8l8e2c4e4u",
        "outputId": "d3deae2e-7e05-403c-acd2-2dc40a20fc0f"
      },
      "outputs": [
        {
          "data": {
            "text/html": [
              "<div>\n",
              "<style scoped>\n",
              "    .dataframe tbody tr th:only-of-type {\n",
              "        vertical-align: middle;\n",
              "    }\n",
              "\n",
              "    .dataframe tbody tr th {\n",
              "        vertical-align: top;\n",
              "    }\n",
              "\n",
              "    .dataframe thead th {\n",
              "        text-align: right;\n",
              "    }\n",
              "</style>\n",
              "<table border=\"1\" class=\"dataframe\">\n",
              "  <thead>\n",
              "    <tr style=\"text-align: right;\">\n",
              "      <th></th>\n",
              "      <th>Name of company</th>\n",
              "      <th>Measure X</th>\n",
              "    </tr>\n",
              "  </thead>\n",
              "  <tbody>\n",
              "    <tr>\n",
              "      <th>0</th>\n",
              "      <td>Allied Signal</td>\n",
              "      <td>24.23%</td>\n",
              "    </tr>\n",
              "    <tr>\n",
              "      <th>1</th>\n",
              "      <td>Bankers Trust</td>\n",
              "      <td>25.53%</td>\n",
              "    </tr>\n",
              "    <tr>\n",
              "      <th>2</th>\n",
              "      <td>General Mills</td>\n",
              "      <td>25.41%</td>\n",
              "    </tr>\n",
              "    <tr>\n",
              "      <th>3</th>\n",
              "      <td>ITT Industries</td>\n",
              "      <td>24.14%</td>\n",
              "    </tr>\n",
              "    <tr>\n",
              "      <th>4</th>\n",
              "      <td>J.P.Morgan &amp; Co.</td>\n",
              "      <td>29.62%</td>\n",
              "    </tr>\n",
              "    <tr>\n",
              "      <th>5</th>\n",
              "      <td>Lehman Brothers</td>\n",
              "      <td>28.25%</td>\n",
              "    </tr>\n",
              "    <tr>\n",
              "      <th>6</th>\n",
              "      <td>Marriott</td>\n",
              "      <td>25.81%</td>\n",
              "    </tr>\n",
              "    <tr>\n",
              "      <th>7</th>\n",
              "      <td>MCI</td>\n",
              "      <td>24.39%</td>\n",
              "    </tr>\n",
              "    <tr>\n",
              "      <th>8</th>\n",
              "      <td>Merrill Lynch</td>\n",
              "      <td>40.26%</td>\n",
              "    </tr>\n",
              "    <tr>\n",
              "      <th>9</th>\n",
              "      <td>Microsoft</td>\n",
              "      <td>32.95%</td>\n",
              "    </tr>\n",
              "    <tr>\n",
              "      <th>10</th>\n",
              "      <td>Morgan Stanley</td>\n",
              "      <td>91.36%</td>\n",
              "    </tr>\n",
              "    <tr>\n",
              "      <th>11</th>\n",
              "      <td>Sun Microsystems</td>\n",
              "      <td>25.99%</td>\n",
              "    </tr>\n",
              "    <tr>\n",
              "      <th>12</th>\n",
              "      <td>Travelers</td>\n",
              "      <td>39.42%</td>\n",
              "    </tr>\n",
              "    <tr>\n",
              "      <th>13</th>\n",
              "      <td>US Airways</td>\n",
              "      <td>26.71%</td>\n",
              "    </tr>\n",
              "    <tr>\n",
              "      <th>14</th>\n",
              "      <td>Warner-Lambert</td>\n",
              "      <td>35.00%</td>\n",
              "    </tr>\n",
              "  </tbody>\n",
              "</table>\n",
              "</div>"
            ],
            "text/plain": [
              "     Name of company Measure X\n",
              "0      Allied Signal    24.23%\n",
              "1      Bankers Trust    25.53%\n",
              "2      General Mills    25.41%\n",
              "3     ITT Industries    24.14%\n",
              "4   J.P.Morgan & Co.    29.62%\n",
              "5    Lehman Brothers    28.25%\n",
              "6           Marriott    25.81%\n",
              "7                MCI    24.39%\n",
              "8      Merrill Lynch    40.26%\n",
              "9          Microsoft    32.95%\n",
              "10    Morgan Stanley    91.36%\n",
              "11  Sun Microsystems    25.99%\n",
              "12         Travelers    39.42%\n",
              "13        US Airways    26.71%\n",
              "14    Warner-Lambert    35.00%"
            ]
          },
          "execution_count": 72,
          "metadata": {},
          "output_type": "execute_result"
        }
      ],
      "source": [
        "\n",
        "df = pd.DataFrame({'Name of company':['Allied Signal','Bankers Trust','General Mills','ITT Industries','J.P.Morgan & Co.','Lehman Brothers','Marriott','MCI','Merrill Lynch','Microsoft','Morgan Stanley','Sun Microsystems','Travelers','US Airways','Warner-Lambert'],\n",
        "                   'Measure X':['24.23%','25.53%','25.41%','24.14%','29.62%','28.25%','25.81%','24.39%','40.26%','32.95%','91.36%','25.99%','39.42%','26.71%','35.00%']})\n",
        "df"
      ]
    },
    {
      "cell_type": "code",
      "execution_count": 73,
      "metadata": {
        "colab": {
          "base_uri": "https://localhost:8080/",
          "height": 519
        },
        "id": "N3cfWZpe4fAW",
        "outputId": "bfa93a5e-6993-4cab-defa-f6652b633d5f"
      },
      "outputs": [
        {
          "data": {
            "text/html": [
              "<div>\n",
              "<style scoped>\n",
              "    .dataframe tbody tr th:only-of-type {\n",
              "        vertical-align: middle;\n",
              "    }\n",
              "\n",
              "    .dataframe tbody tr th {\n",
              "        vertical-align: top;\n",
              "    }\n",
              "\n",
              "    .dataframe thead th {\n",
              "        text-align: right;\n",
              "    }\n",
              "</style>\n",
              "<table border=\"1\" class=\"dataframe\">\n",
              "  <thead>\n",
              "    <tr style=\"text-align: right;\">\n",
              "      <th></th>\n",
              "      <th>Name of company</th>\n",
              "      <th>Measure X</th>\n",
              "    </tr>\n",
              "  </thead>\n",
              "  <tbody>\n",
              "    <tr>\n",
              "      <th>0</th>\n",
              "      <td>Allied Signal</td>\n",
              "      <td>24.23</td>\n",
              "    </tr>\n",
              "    <tr>\n",
              "      <th>1</th>\n",
              "      <td>Bankers Trust</td>\n",
              "      <td>25.53</td>\n",
              "    </tr>\n",
              "    <tr>\n",
              "      <th>2</th>\n",
              "      <td>General Mills</td>\n",
              "      <td>25.41</td>\n",
              "    </tr>\n",
              "    <tr>\n",
              "      <th>3</th>\n",
              "      <td>ITT Industries</td>\n",
              "      <td>24.14</td>\n",
              "    </tr>\n",
              "    <tr>\n",
              "      <th>4</th>\n",
              "      <td>J.P.Morgan &amp; Co.</td>\n",
              "      <td>29.62</td>\n",
              "    </tr>\n",
              "    <tr>\n",
              "      <th>5</th>\n",
              "      <td>Lehman Brothers</td>\n",
              "      <td>28.25</td>\n",
              "    </tr>\n",
              "    <tr>\n",
              "      <th>6</th>\n",
              "      <td>Marriott</td>\n",
              "      <td>25.81</td>\n",
              "    </tr>\n",
              "    <tr>\n",
              "      <th>7</th>\n",
              "      <td>MCI</td>\n",
              "      <td>24.39</td>\n",
              "    </tr>\n",
              "    <tr>\n",
              "      <th>8</th>\n",
              "      <td>Merrill Lynch</td>\n",
              "      <td>40.26</td>\n",
              "    </tr>\n",
              "    <tr>\n",
              "      <th>9</th>\n",
              "      <td>Microsoft</td>\n",
              "      <td>32.95</td>\n",
              "    </tr>\n",
              "    <tr>\n",
              "      <th>10</th>\n",
              "      <td>Morgan Stanley</td>\n",
              "      <td>91.36</td>\n",
              "    </tr>\n",
              "    <tr>\n",
              "      <th>11</th>\n",
              "      <td>Sun Microsystems</td>\n",
              "      <td>25.99</td>\n",
              "    </tr>\n",
              "    <tr>\n",
              "      <th>12</th>\n",
              "      <td>Travelers</td>\n",
              "      <td>39.42</td>\n",
              "    </tr>\n",
              "    <tr>\n",
              "      <th>13</th>\n",
              "      <td>US Airways</td>\n",
              "      <td>26.71</td>\n",
              "    </tr>\n",
              "    <tr>\n",
              "      <th>14</th>\n",
              "      <td>Warner-Lambert</td>\n",
              "      <td>35.00</td>\n",
              "    </tr>\n",
              "  </tbody>\n",
              "</table>\n",
              "</div>"
            ],
            "text/plain": [
              "     Name of company Measure X\n",
              "0      Allied Signal     24.23\n",
              "1      Bankers Trust     25.53\n",
              "2      General Mills     25.41\n",
              "3     ITT Industries     24.14\n",
              "4   J.P.Morgan & Co.     29.62\n",
              "5    Lehman Brothers     28.25\n",
              "6           Marriott     25.81\n",
              "7                MCI     24.39\n",
              "8      Merrill Lynch     40.26\n",
              "9          Microsoft     32.95\n",
              "10    Morgan Stanley     91.36\n",
              "11  Sun Microsystems     25.99\n",
              "12         Travelers     39.42\n",
              "13        US Airways     26.71\n",
              "14    Warner-Lambert     35.00"
            ]
          },
          "execution_count": 73,
          "metadata": {},
          "output_type": "execute_result"
        }
      ],
      "source": [
        "df['Measure X'] = df['Measure X'].str.replace('%','')    #replaced % from Measure X column by ''\n",
        "df"
      ]
    },
    {
      "cell_type": "code",
      "execution_count": 74,
      "metadata": {
        "colab": {
          "base_uri": "https://localhost:8080/"
        },
        "id": "1a2QFzxs4fIw",
        "outputId": "f13baefd-2295-4f6d-da13-346726e1b698"
      },
      "outputs": [
        {
          "data": {
            "text/plain": [
              "Name of company    object\n",
              "Measure X          object\n",
              "dtype: object"
            ]
          },
          "execution_count": 74,
          "metadata": {},
          "output_type": "execute_result"
        }
      ],
      "source": [
        "df.dtypes     #Checking data types of the columns of df"
      ]
    },
    {
      "cell_type": "code",
      "execution_count": 75,
      "metadata": {
        "colab": {
          "base_uri": "https://localhost:8080/",
          "height": 519
        },
        "id": "gRBwWcLFnHUp",
        "outputId": "c3ec9752-c691-4b5a-dfda-40f56cfbf567"
      },
      "outputs": [
        {
          "data": {
            "text/html": [
              "<div>\n",
              "<style scoped>\n",
              "    .dataframe tbody tr th:only-of-type {\n",
              "        vertical-align: middle;\n",
              "    }\n",
              "\n",
              "    .dataframe tbody tr th {\n",
              "        vertical-align: top;\n",
              "    }\n",
              "\n",
              "    .dataframe thead th {\n",
              "        text-align: right;\n",
              "    }\n",
              "</style>\n",
              "<table border=\"1\" class=\"dataframe\">\n",
              "  <thead>\n",
              "    <tr style=\"text-align: right;\">\n",
              "      <th></th>\n",
              "      <th>Name of company</th>\n",
              "      <th>Measure X</th>\n",
              "    </tr>\n",
              "  </thead>\n",
              "  <tbody>\n",
              "    <tr>\n",
              "      <th>0</th>\n",
              "      <td>Allied Signal</td>\n",
              "      <td>24.23</td>\n",
              "    </tr>\n",
              "    <tr>\n",
              "      <th>1</th>\n",
              "      <td>Bankers Trust</td>\n",
              "      <td>25.53</td>\n",
              "    </tr>\n",
              "    <tr>\n",
              "      <th>2</th>\n",
              "      <td>General Mills</td>\n",
              "      <td>25.41</td>\n",
              "    </tr>\n",
              "    <tr>\n",
              "      <th>3</th>\n",
              "      <td>ITT Industries</td>\n",
              "      <td>24.14</td>\n",
              "    </tr>\n",
              "    <tr>\n",
              "      <th>4</th>\n",
              "      <td>J.P.Morgan &amp; Co.</td>\n",
              "      <td>29.62</td>\n",
              "    </tr>\n",
              "    <tr>\n",
              "      <th>5</th>\n",
              "      <td>Lehman Brothers</td>\n",
              "      <td>28.25</td>\n",
              "    </tr>\n",
              "    <tr>\n",
              "      <th>6</th>\n",
              "      <td>Marriott</td>\n",
              "      <td>25.81</td>\n",
              "    </tr>\n",
              "    <tr>\n",
              "      <th>7</th>\n",
              "      <td>MCI</td>\n",
              "      <td>24.39</td>\n",
              "    </tr>\n",
              "    <tr>\n",
              "      <th>8</th>\n",
              "      <td>Merrill Lynch</td>\n",
              "      <td>40.26</td>\n",
              "    </tr>\n",
              "    <tr>\n",
              "      <th>9</th>\n",
              "      <td>Microsoft</td>\n",
              "      <td>32.95</td>\n",
              "    </tr>\n",
              "    <tr>\n",
              "      <th>10</th>\n",
              "      <td>Morgan Stanley</td>\n",
              "      <td>91.36</td>\n",
              "    </tr>\n",
              "    <tr>\n",
              "      <th>11</th>\n",
              "      <td>Sun Microsystems</td>\n",
              "      <td>25.99</td>\n",
              "    </tr>\n",
              "    <tr>\n",
              "      <th>12</th>\n",
              "      <td>Travelers</td>\n",
              "      <td>39.42</td>\n",
              "    </tr>\n",
              "    <tr>\n",
              "      <th>13</th>\n",
              "      <td>US Airways</td>\n",
              "      <td>26.71</td>\n",
              "    </tr>\n",
              "    <tr>\n",
              "      <th>14</th>\n",
              "      <td>Warner-Lambert</td>\n",
              "      <td>35.00</td>\n",
              "    </tr>\n",
              "  </tbody>\n",
              "</table>\n",
              "</div>"
            ],
            "text/plain": [
              "     Name of company  Measure X\n",
              "0      Allied Signal      24.23\n",
              "1      Bankers Trust      25.53\n",
              "2      General Mills      25.41\n",
              "3     ITT Industries      24.14\n",
              "4   J.P.Morgan & Co.      29.62\n",
              "5    Lehman Brothers      28.25\n",
              "6           Marriott      25.81\n",
              "7                MCI      24.39\n",
              "8      Merrill Lynch      40.26\n",
              "9          Microsoft      32.95\n",
              "10    Morgan Stanley      91.36\n",
              "11  Sun Microsystems      25.99\n",
              "12         Travelers      39.42\n",
              "13        US Airways      26.71\n",
              "14    Warner-Lambert      35.00"
            ]
          },
          "execution_count": 75,
          "metadata": {},
          "output_type": "execute_result"
        }
      ],
      "source": [
        "df['Measure X'] = pd.to_numeric(df['Measure X'],errors='coerce')    #Converting float values with data type string to float and if there are character values in the Measure X column then errors='coerce' convertes that character value to NaN\n",
        "df"
      ]
    },
    {
      "cell_type": "code",
      "execution_count": 76,
      "metadata": {
        "colab": {
          "base_uri": "https://localhost:8080/"
        },
        "id": "Bvf3lSvOnHXv",
        "outputId": "7a3fd497-5f9a-4766-bd66-05acba429ed7"
      },
      "outputs": [
        {
          "data": {
            "text/plain": [
              "Name of company     object\n",
              "Measure X          float64\n",
              "dtype: object"
            ]
          },
          "execution_count": 76,
          "metadata": {},
          "output_type": "execute_result"
        }
      ],
      "source": [
        "df.dtypes"
      ]
    },
    {
      "cell_type": "code",
      "execution_count": 77,
      "metadata": {
        "colab": {
          "base_uri": "https://localhost:8080/",
          "height": 649
        },
        "id": "JncREaB7nHgh",
        "outputId": "0ba82df7-7eed-46ef-965f-e5e4265a3936"
      },
      "outputs": [
        {
          "data": {
            "image/png": "[encoded data removed]",
            "text/plain": [
              "<Figure size 800x600 with 1 Axes>"
            ]
          },
          "metadata": {},
          "output_type": "display_data"
        }
      ],
      "source": [
        "fig = plt.figure(figsize=(8,6))\n",
        "plt.bar(df['Name of company'],df['Measure X'],color='blue',alpha=0.7)\n",
        "plt.title('Bar plot')\n",
        "plt.xlabel('Name of company')\n",
        "plt.ylabel('Measure X')\n",
        "plt.xticks(rotation=45)\n",
        "plt.show()\n"
      ]
    },
    {
      "cell_type": "code",
      "execution_count": 78,
      "metadata": {
        "colab": {
          "base_uri": "https://localhost:8080/",
          "height": 667
        },
        "id": "0iWmW0_friB5",
        "outputId": "9c64217c-aa54-4352-d128-d9868820bef2"
      },
      "outputs": [
        {
          "name": "stderr",
          "output_type": "stream",
          "text": [
            "C:\\Users\\rames\\AppData\\Local\\Temp\\ipykernel_24296\\241676833.py:1: UserWarning: \n",
            "\n",
            "`distplot` is a deprecated function and will be removed in seaborn v0.14.0.\n",
            "\n",
            "Please adapt your code to use either `displot` (a figure-level function with\n",
            "similar flexibility) or `histplot` (an axes-level function for histograms).\n",
            "\n",
            "For a guide to updating your code to use the new functions, please see\n",
            "https://gist.github.com/mwaskom/de44147ed2974457ad6372750bbe5751\n",
            "\n",
            "  sns.distplot(df['Measure X'])          #Positively skewed\n"
          ]
        },
        {
          "data": {
            "text/plain": [
              "<AxesSubplot: xlabel='Measure X', ylabel='Density'>"
            ]
          },
          "execution_count": 78,
          "metadata": {},
          "output_type": "execute_result"
        },
        {
          "data": {
            "image/png": "[encoded data removed]",
            "text/plain": [
              "<Figure size 640x480 with 1 Axes>"
            ]
          },
          "metadata": {},
          "output_type": "display_data"
        }
      ],
      "source": [
        "sns.distplot(df['Measure X'])          #Positively skewed"
      ]
    },
    {
      "cell_type": "code",
      "execution_count": 79,
      "metadata": {
        "colab": {
          "base_uri": "https://localhost:8080/"
        },
        "id": "e105IEfQriEx",
        "outputId": "e292faa0-e3c2-4aed-e094-4dcbbfa6387f"
      },
      "outputs": [
        {
          "name": "stdout",
          "output_type": "stream",
          "text": [
            "33.27133333333333\n"
          ]
        },
        {
          "data": {
            "text/plain": [
              "33.27133333333333"
            ]
          },
          "execution_count": 79,
          "metadata": {},
          "output_type": "execute_result"
        }
      ],
      "source": [
        "#Mean\n",
        "\n",
        "mean_ = df['Measure X'].mean()\n",
        "print(mean_)\n",
        "\n",
        "mean_ = sum(df['Measure X'])/len(df['Measure X'])\n",
        "mean_"
      ]
    },
    {
      "cell_type": "code",
      "execution_count": 80,
      "metadata": {
        "colab": {
          "base_uri": "https://localhost:8080/"
        },
        "id": "tcyHjkv7riK2",
        "outputId": "d0e7523a-0c33-42c0-bbad-1b728a2568cf"
      },
      "outputs": [
        {
          "name": "stdout",
          "output_type": "stream",
          "text": [
            "287.1466123809524\n",
            "4020.0525733333334\n"
          ]
        },
        {
          "data": {
            "text/plain": [
              "287.1466123809524"
            ]
          },
          "execution_count": 80,
          "metadata": {},
          "output_type": "execute_result"
        }
      ],
      "source": [
        "#Variance\n",
        "\n",
        "variance_ = df['Measure X'].var()\n",
        "print(variance_)\n",
        "\n",
        "col_measure = df['Measure X']\n",
        "sum_of_sq_diff = sum((x-mean_)**2 for x in col_measure)\n",
        "print(sum_of_sq_diff)\n",
        "\n",
        "variance_ = sum_of_sq_diff/(len(col_measure)-1)\n",
        "variance_"
      ]
    },
    {
      "cell_type": "code",
      "execution_count": 81,
      "metadata": {
        "colab": {
          "base_uri": "https://localhost:8080/"
        },
        "id": "N2Adj9J2riNq",
        "outputId": "db02d33c-64ba-45a0-baab-be4cf71d1579"
      },
      "outputs": [
        {
          "name": "stdout",
          "output_type": "stream",
          "text": [
            "16.945400921222028\n"
          ]
        },
        {
          "data": {
            "text/plain": [
              "16.945400921222028"
            ]
          },
          "execution_count": 81,
          "metadata": {},
          "output_type": "execute_result"
        }
      ],
      "source": [
        "#Standard Deviation\n",
        "\n",
        "stdev_ = df['Measure X'].std()\n",
        "print(stdev_)\n",
        "\n",
        "stdev_ = np.sqrt(variance_)\n",
        "stdev_"
      ]
    },
    {
      "cell_type": "code",
      "execution_count": 82,
      "metadata": {
        "colab": {
          "base_uri": "https://localhost:8080/"
        },
        "id": "udkTJnPUriH5",
        "outputId": "9c09c514-ab8b-492c-9df0-08a059a6ebe2"
      },
      "outputs": [
        {
          "name": "stdout",
          "output_type": "stream",
          "text": [
            "25.47\n",
            "33.975\n",
            "8.505000000000003\n"
          ]
        }
      ],
      "source": [
        "#For Outliers\n",
        "\n",
        "q1 = df['Measure X'].quantile(0.25)\n",
        "q3 = df['Measure X'].quantile(0.75)\n",
        "iqr = q3-q1\n",
        "print(q1)\n",
        "print(q3)\n",
        "print(iqr)"
      ]
    },
    {
      "cell_type": "code",
      "execution_count": 83,
      "metadata": {
        "colab": {
          "base_uri": "https://localhost:8080/"
        },
        "id": "kJC9M8BUriZu",
        "outputId": "4532ac6e-c8cb-40cd-fb5d-0c2eafed055e"
      },
      "outputs": [
        {
          "name": "stdout",
          "output_type": "stream",
          "text": [
            "12.712499999999995\n",
            "46.7325\n"
          ]
        }
      ],
      "source": [
        "lower_bound = q1 - (1.5*iqr)\n",
        "upper_bound = q3 + (1.5*iqr)\n",
        "print(lower_bound)\n",
        "print(upper_bound)"
      ]
    },
    {
      "cell_type": "code",
      "execution_count": 84,
      "metadata": {
        "colab": {
          "base_uri": "https://localhost:8080/",
          "height": 80
        },
        "id": "dN5JUQUbriQo",
        "outputId": "d5ffc6f7-848d-42ea-b936-de784309b5cc"
      },
      "outputs": [
        {
          "data": {
            "text/html": [
              "<div>\n",
              "<style scoped>\n",
              "    .dataframe tbody tr th:only-of-type {\n",
              "        vertical-align: middle;\n",
              "    }\n",
              "\n",
              "    .dataframe tbody tr th {\n",
              "        vertical-align: top;\n",
              "    }\n",
              "\n",
              "    .dataframe thead th {\n",
              "        text-align: right;\n",
              "    }\n",
              "</style>\n",
              "<table border=\"1\" class=\"dataframe\">\n",
              "  <thead>\n",
              "    <tr style=\"text-align: right;\">\n",
              "      <th></th>\n",
              "      <th>Name of company</th>\n",
              "      <th>Measure X</th>\n",
              "    </tr>\n",
              "  </thead>\n",
              "  <tbody>\n",
              "    <tr>\n",
              "      <th>10</th>\n",
              "      <td>Morgan Stanley</td>\n",
              "      <td>91.36</td>\n",
              "    </tr>\n",
              "  </tbody>\n",
              "</table>\n",
              "</div>"
            ],
            "text/plain": [
              "   Name of company  Measure X\n",
              "10  Morgan Stanley      91.36"
            ]
          },
          "execution_count": 84,
          "metadata": {},
          "output_type": "execute_result"
        }
      ],
      "source": [
        "outliers = df[(df['Measure X'] < lower_bound) | (df['Measure X']>upper_bound)]\n",
        "outliers"
      ]
    },
    {
      "cell_type": "code",
      "execution_count": 85,
      "metadata": {
        "id": "mDb9vCx7riTT"
      },
      "outputs": [],
      "source": [
        "#Deleted outlier which is lying at index 10\n",
        "\n",
        "df = df.drop(10)"
      ]
    },
    {
      "cell_type": "code",
      "execution_count": 86,
      "metadata": {
        "colab": {
          "base_uri": "https://localhost:8080/",
          "height": 488
        },
        "id": "lh6r36gNriWP",
        "outputId": "8c77ff7f-1ff1-4d92-945f-3550c233dcac"
      },
      "outputs": [
        {
          "data": {
            "text/html": [
              "<div>\n",
              "<style scoped>\n",
              "    .dataframe tbody tr th:only-of-type {\n",
              "        vertical-align: middle;\n",
              "    }\n",
              "\n",
              "    .dataframe tbody tr th {\n",
              "        vertical-align: top;\n",
              "    }\n",
              "\n",
              "    .dataframe thead th {\n",
              "        text-align: right;\n",
              "    }\n",
              "</style>\n",
              "<table border=\"1\" class=\"dataframe\">\n",
              "  <thead>\n",
              "    <tr style=\"text-align: right;\">\n",
              "      <th></th>\n",
              "      <th>Name of company</th>\n",
              "      <th>Measure X</th>\n",
              "    </tr>\n",
              "  </thead>\n",
              "  <tbody>\n",
              "    <tr>\n",
              "      <th>0</th>\n",
              "      <td>Allied Signal</td>\n",
              "      <td>24.23</td>\n",
              "    </tr>\n",
              "    <tr>\n",
              "      <th>1</th>\n",
              "      <td>Bankers Trust</td>\n",
              "      <td>25.53</td>\n",
              "    </tr>\n",
              "    <tr>\n",
              "      <th>2</th>\n",
              "      <td>General Mills</td>\n",
              "      <td>25.41</td>\n",
              "    </tr>\n",
              "    <tr>\n",
              "      <th>3</th>\n",
              "      <td>ITT Industries</td>\n",
              "      <td>24.14</td>\n",
              "    </tr>\n",
              "    <tr>\n",
              "      <th>4</th>\n",
              "      <td>J.P.Morgan &amp; Co.</td>\n",
              "      <td>29.62</td>\n",
              "    </tr>\n",
              "    <tr>\n",
              "      <th>5</th>\n",
              "      <td>Lehman Brothers</td>\n",
              "      <td>28.25</td>\n",
              "    </tr>\n",
              "    <tr>\n",
              "      <th>6</th>\n",
              "      <td>Marriott</td>\n",
              "      <td>25.81</td>\n",
              "    </tr>\n",
              "    <tr>\n",
              "      <th>7</th>\n",
              "      <td>MCI</td>\n",
              "      <td>24.39</td>\n",
              "    </tr>\n",
              "    <tr>\n",
              "      <th>8</th>\n",
              "      <td>Merrill Lynch</td>\n",
              "      <td>40.26</td>\n",
              "    </tr>\n",
              "    <tr>\n",
              "      <th>9</th>\n",
              "      <td>Microsoft</td>\n",
              "      <td>32.95</td>\n",
              "    </tr>\n",
              "    <tr>\n",
              "      <th>11</th>\n",
              "      <td>Sun Microsystems</td>\n",
              "      <td>25.99</td>\n",
              "    </tr>\n",
              "    <tr>\n",
              "      <th>12</th>\n",
              "      <td>Travelers</td>\n",
              "      <td>39.42</td>\n",
              "    </tr>\n",
              "    <tr>\n",
              "      <th>13</th>\n",
              "      <td>US Airways</td>\n",
              "      <td>26.71</td>\n",
              "    </tr>\n",
              "    <tr>\n",
              "      <th>14</th>\n",
              "      <td>Warner-Lambert</td>\n",
              "      <td>35.00</td>\n",
              "    </tr>\n",
              "  </tbody>\n",
              "</table>\n",
              "</div>"
            ],
            "text/plain": [
              "     Name of company  Measure X\n",
              "0      Allied Signal      24.23\n",
              "1      Bankers Trust      25.53\n",
              "2      General Mills      25.41\n",
              "3     ITT Industries      24.14\n",
              "4   J.P.Morgan & Co.      29.62\n",
              "5    Lehman Brothers      28.25\n",
              "6           Marriott      25.81\n",
              "7                MCI      24.39\n",
              "8      Merrill Lynch      40.26\n",
              "9          Microsoft      32.95\n",
              "11  Sun Microsystems      25.99\n",
              "12         Travelers      39.42\n",
              "13        US Airways      26.71\n",
              "14    Warner-Lambert      35.00"
            ]
          },
          "execution_count": 86,
          "metadata": {},
          "output_type": "execute_result"
        }
      ],
      "source": [
        "df"
      ]
    },
    {
      "cell_type": "markdown",
      "metadata": {},
      "source": [
        "## Q4"
      ]
    },
    {
      "cell_type": "code",
      "execution_count": 87,
      "metadata": {},
      "outputs": [],
      "source": [
        "# 4. AT&T was running commercials in 1990 aimed at luring back customers who had switched to one of the other long-distance phone service providers.\n",
        "# One such commercial shows a businessman trying to reach Phoenix and mistakenly getting Fiji, where a half-naked native on a beach responds \n",
        "# incomprehensibly in Polynesian. When asked about this advertisement, AT&T admitted that the portrayed incident did not actually take place but \n",
        "# added that this was an enactment of something that “could happen.” Suppose that one in 200 long-distance telephone calls is misdirected. \n",
        "# What is the probability that at least one in five attempted telephone calls reaches the wrong number? (Assume independence of attempts.)"
      ]
    },
    {
      "cell_type": "code",
      "execution_count": 88,
      "metadata": {},
      "outputs": [],
      "source": [
        "from scipy import stats"
      ]
    },
    {
      "cell_type": "code",
      "execution_count": 89,
      "metadata": {},
      "outputs": [
        {
          "data": {
            "text/plain": [
              "0.02475124687812502"
            ]
          },
          "execution_count": 89,
          "metadata": {},
          "output_type": "execute_result"
        }
      ],
      "source": [
        "num_misdirected = 1\n",
        "total_calls = 200\n",
        "total_attempts = 5\n",
        "p_misdirected = 1/200\n",
        "\n",
        "# Here in the cdf the parameters passed are calculated first, first parameter\n",
        "# contains probability we want to find since here is the case of at least one so we calculate till its previous value\n",
        "# then it is subtracted from 1 which gives us probability that at least one in five calls reaches wrong number.\n",
        "\n",
        "prob = 1 - stats.binom.cdf(num_misdirected-1,total_attempts,p_misdirected)\n",
        "prob"
      ]
    },
    {
      "cell_type": "markdown",
      "metadata": {},
      "source": [
        "## Q5"
      ]
    },
    {
      "cell_type": "code",
      "execution_count": 90,
      "metadata": {},
      "outputs": [],
      "source": [
        "\n",
        "# 5. Returns on a certain business venture, to the nearest $1,000, are known to follow the following probability distribution\n",
        "# x\tP(x)\n",
        "# -2,000  0.1\n",
        "# -1,000  0.1\n",
        "# 0\t 0.2\n",
        "# 1000\t0.2\n",
        "# 2000\t0.3\n",
        "# 3000\t0.1\n",
        "\n",
        "# (i)\tWhat is the most likely monetary outcome of the business venture?\n",
        "# (ii)\tIs the venture likely to be successful? Explain\n",
        "# (iii)\tWhat is the long-term average earning of business ventures of this kind? Explain\n",
        "# (iv)\tWhat is the good measure of the risk involved in a venture of this kind? Compute this measure\n"
      ]
    },
    {
      "cell_type": "code",
      "execution_count": 91,
      "metadata": {},
      "outputs": [
        {
          "data": {
            "text/html": [
              "<div>\n",
              "<style scoped>\n",
              "    .dataframe tbody tr th:only-of-type {\n",
              "        vertical-align: middle;\n",
              "    }\n",
              "\n",
              "    .dataframe tbody tr th {\n",
              "        vertical-align: top;\n",
              "    }\n",
              "\n",
              "    .dataframe thead th {\n",
              "        text-align: right;\n",
              "    }\n",
              "</style>\n",
              "<table border=\"1\" class=\"dataframe\">\n",
              "  <thead>\n",
              "    <tr style=\"text-align: right;\">\n",
              "      <th></th>\n",
              "      <th>x</th>\n",
              "      <th>p(x)</th>\n",
              "    </tr>\n",
              "  </thead>\n",
              "  <tbody>\n",
              "    <tr>\n",
              "      <th>0</th>\n",
              "      <td>-2000</td>\n",
              "      <td>0.1</td>\n",
              "    </tr>\n",
              "    <tr>\n",
              "      <th>1</th>\n",
              "      <td>-1000</td>\n",
              "      <td>0.1</td>\n",
              "    </tr>\n",
              "    <tr>\n",
              "      <th>2</th>\n",
              "      <td>0</td>\n",
              "      <td>0.2</td>\n",
              "    </tr>\n",
              "    <tr>\n",
              "      <th>3</th>\n",
              "      <td>1000</td>\n",
              "      <td>0.2</td>\n",
              "    </tr>\n",
              "    <tr>\n",
              "      <th>4</th>\n",
              "      <td>2000</td>\n",
              "      <td>0.3</td>\n",
              "    </tr>\n",
              "    <tr>\n",
              "      <th>5</th>\n",
              "      <td>3000</td>\n",
              "      <td>0.1</td>\n",
              "    </tr>\n",
              "  </tbody>\n",
              "</table>\n",
              "</div>"
            ],
            "text/plain": [
              "      x  p(x)\n",
              "0 -2000   0.1\n",
              "1 -1000   0.1\n",
              "2     0   0.2\n",
              "3  1000   0.2\n",
              "4  2000   0.3\n",
              "5  3000   0.1"
            ]
          },
          "execution_count": 91,
          "metadata": {},
          "output_type": "execute_result"
        }
      ],
      "source": [
        "import pandas as pd\n",
        "\n",
        "df = pd.DataFrame({'x':[-2000,-1000,0,1000,2000,3000], 'p(x)':[0.1,0.1,0.2,0.2,0.3,0.1]})\n",
        "df"
      ]
    },
    {
      "cell_type": "code",
      "execution_count": 92,
      "metadata": {},
      "outputs": [
        {
          "data": {
            "text/plain": [
              "2000"
            ]
          },
          "execution_count": 92,
          "metadata": {},
          "output_type": "execute_result"
        }
      ],
      "source": [
        "# q1\n",
        "\n",
        "outcome = df.x[df['p(x)'].idxmax()]    #idxmax() gives index of highest value and by passing index value to 'x' column we are finding the value.\n",
        "outcome"
      ]
    },
    {
      "cell_type": "code",
      "execution_count": 93,
      "metadata": {},
      "outputs": [
        {
          "name": "stdout",
          "output_type": "stream",
          "text": [
            "Venture is likely to be successful\n"
          ]
        }
      ],
      "source": [
        "# q2\n",
        "# Based on the distribution of the venture\n",
        "# Calculating sum of probabilities associated with positive outcomes to check the success.\n",
        "\n",
        "positive_outcome_prob = sum(prob for prob in df['p(x)'] if prob > 0)\n",
        "\n",
        "if positive_outcome_prob > sum(df['p(x)'])/2:\n",
        "    print(\"Venture is likely to be successful\")\n",
        "else:\n",
        "    print(\"Venture is likely to be unsuccessful\")\n",
        "\n",
        "# Here in the if condition sum(df['p(x)']) is divided by 2 to make comparison to  determine\n",
        "# whether the sum of positive_outcome_prob is greater than half of the total probability distribution,\n",
        "# If it is greater than half means venture is likely to be successful.\n"
      ]
    },
    {
      "cell_type": "code",
      "execution_count": 94,
      "metadata": {},
      "outputs": [
        {
          "data": {
            "text/plain": [
              "800.0"
            ]
          },
          "execution_count": 94,
          "metadata": {},
          "output_type": "execute_result"
        }
      ],
      "source": [
        "# q3\n",
        "\n",
        "avg_earnings = sum(outcome*prob for outcome,prob in zip(df['x'],df['p(x)']))\n",
        "avg_earnings"
      ]
    },
    {
      "cell_type": "code",
      "execution_count": 95,
      "metadata": {},
      "outputs": [
        {
          "data": {
            "text/plain": [
              "1469.6938456699068"
            ]
          },
          "execution_count": 95,
          "metadata": {},
          "output_type": "execute_result"
        }
      ],
      "source": [
        "# q4     Risk measure using Standard Deviation\n",
        "\n",
        "expected_value =  sum(outcome*prob for outcome,prob in zip(df['x'],df['p(x)']))\n",
        "variance_ = sum( ((outcome-expected_value)**2 * prob) for outcome,prob in zip(df['x'],df['p(x)']))\n",
        "stdev_ = np.sqrt(variance_)\n",
        "stdev_    \n",
        "# Here average earnings of each venture is $800 and standard deviation 1469 indicates that\n",
        "# actual outcomes can vary significantly around this average.Which means higher level of \n",
        "# risk involved. So robust risk management strategies should ve required. "
      ]
    },
    {
      "cell_type": "markdown",
      "metadata": {},
      "source": [
        "# Set 2_Normal Distribution Functions of random variables"
      ]
    },
    {
      "cell_type": "markdown",
      "metadata": {},
      "source": [
        "## Q1"
      ]
    },
    {
      "cell_type": "markdown",
      "metadata": {},
      "source": [
        "1.\tThe time required for servicing transmissions is normally distributed with mean = 45 minutes and Standard Deviation = 8 minutes. The service manager plans to have work begin on the transmission of a customer’s car 10 minutes after the car is dropped off and the customer is told that the car will be ready within 1 hour from drop-off. What is the probability that the service manager cannot meet his commitment?"
      ]
    },
    {
      "cell_type": "code",
      "execution_count": 96,
      "metadata": {},
      "outputs": [
        {
          "data": {
            "text/plain": [
              "0.26598552904870054"
            ]
          },
          "execution_count": 96,
          "metadata": {},
          "output_type": "execute_result"
        }
      ],
      "source": [
        "from scipy import stats\n",
        "import numpy as np\n",
        "\n",
        "mean = 45\n",
        "stdev_ = 8\n",
        "drop_off_time = 10\n",
        "remaining_time = 60-drop_off_time\n",
        "\n",
        "meet_commitment = stats.norm.cdf(remaining_time,mean,stdev_)\n",
        "cannot_meet_commitment = 1-meet_commitment\n",
        "cannot_meet_commitment"
      ]
    },
    {
      "cell_type": "code",
      "execution_count": 97,
      "metadata": {},
      "outputs": [],
      "source": [
        "# 2. The current age (in years) of 400 clerical employees at an insurance claims processing \n",
        "#    center is normally distributed with mean  = 38 and Standard deviation  =6. For each statement below, please specify True/False. If false, briefly explain why.\n",
        "# A. More employees at the processing center are older than 44 than between 38 and 44.\n",
        "# B. A training program for employees under the age of 30 at the center would be expected to attract about 36 employees.\n"
      ]
    },
    {
      "cell_type": "code",
      "execution_count": 98,
      "metadata": {},
      "outputs": [],
      "source": [
        "mean_ = 38 \n",
        "stdev_ = 6"
      ]
    },
    {
      "cell_type": "markdown",
      "metadata": {},
      "source": [
        "## Q2"
      ]
    },
    {
      "cell_type": "markdown",
      "metadata": {},
      "source": [
        "2.\tThe current age (in years) of 400 clerical employees at an insurance claims processing center is normally distributed with mean  = 38 and Standard deviation  =6. For each statement below, please specify True/False. If false, briefly explain why."
      ]
    },
    {
      "cell_type": "markdown",
      "metadata": {},
      "source": [
        "A. More employees at the processing center are older than 44 than between 38 and 44.\n",
        "\n",
        "Ans:  False, as we know in normal distribution, the majority of values lie around the mean, \n",
        "and the distribution is symmetrical. Given that mean age is 38, so there will be more employees \n",
        "between 38 and 44(within one standard deviation) than older than 44 (beyond one standard deviation).\n",
        "\n",
        "\n",
        "B. A training program for employees under the age of 30 at the center would be expected to attract about 36 employees.\n",
        "\n",
        "Ans: False, to determine the number of employees expected to be under the age of 30, we need additional information such as proportion or percentage of employees in that age range. The mean and standard deviation are not sufficient to provide information about the number of employees in a specific age category.\n"
      ]
    },
    {
      "cell_type": "markdown",
      "metadata": {},
      "source": [
        "## Q4"
      ]
    },
    {
      "cell_type": "markdown",
      "metadata": {},
      "source": [
        "4.\tLet X ~ N(100, 20^2). Find two values, a and b, symmetric about the mean, such that the probability of the random variable taking a value between them is 0.99. \n",
        "\n",
        "###### A.\t90.5, 105.9 \n",
        "###### B.\t80.2, 119.8 \n",
        "###### C.\t22, 78 \n",
        "###### D.\t48.5, 151.5 \n",
        "###### E.\t90.1, 109.9\n"
      ]
    },
    {
      "cell_type": "code",
      "execution_count": 99,
      "metadata": {},
      "outputs": [
        {
          "name": "stdout",
          "output_type": "stream",
          "text": [
            "a value:  48.48341392902199\n",
            "b value:  151.516586070978\n",
            "Hence, answer D is correct.\n"
          ]
        }
      ],
      "source": [
        "from scipy import stats\n",
        "import numpy as np\n",
        "mean_ = 100\n",
        "variance_ = 20^2\n",
        "stdev_ = np.sqrt(variance_)\n",
        "\n",
        "\n",
        "lower_tail_prob = (1-0.99)/2   #(divided by 2 for one-sided tail)\n",
        "z_lower = stats.norm.ppf(lower_tail_prob)\n",
        "\n",
        "\n",
        "upper_tail_prob = 1-lower_tail_prob   #(remaining probability)\n",
        "z_upper = stats.norm.ppf(upper_tail_prob)\n",
        "\n",
        "\n",
        "a = 100 + z_lower*20      #explained below how we get this    \n",
        "b = 100 + z_upper*20\n",
        "\n",
        "# from formula of z-score,   \n",
        "# z-score= (x-mean)/stdev ,  replacing x with a and b,\n",
        "\n",
        "# z-score * stdev = x-mean\n",
        "# x = mean + (z_score*stdev)\n",
        "# a = mean + (z_lower*stdev)\n",
        "# b = mean + (z_upper*stdev)\n",
        "print(\"a value: \",a)\n",
        "print(\"b value: \",b)\n",
        "print(\"Hence, answer D is correct.\")"
      ]
    },
    {
      "cell_type": "markdown",
      "metadata": {},
      "source": [
        "## Q5"
      ]
    },
    {
      "cell_type": "code",
      "execution_count": 100,
      "metadata": {},
      "outputs": [
        {
          "data": {
            "text/plain": [
              "0.0477903522728147"
            ]
          },
          "execution_count": 100,
          "metadata": {},
          "output_type": "execute_result"
        }
      ],
      "source": [
        "# C.\n",
        "Mean1 = 225\n",
        "Stdev1 = 135\n",
        "z1 = (0-Mean1)/Stdev1\n",
        "prob1 = stats.norm.cdf(z1)\n",
        "prob1"
      ]
    },
    {
      "cell_type": "code",
      "execution_count": 101,
      "metadata": {},
      "outputs": [
        {
          "data": {
            "text/plain": [
              "0.040059156863817086"
            ]
          },
          "execution_count": 101,
          "metadata": {},
          "output_type": "execute_result"
        }
      ],
      "source": [
        "Mean2 = 315\n",
        "Stdev2 = 180\n",
        "z2 = (0-Mean2)/Stdev2\n",
        "prob2 = stats.norm.cdf(z2)\n",
        "prob2"
      ]
    },
    {
      "cell_type": "code",
      "execution_count": 67,
      "metadata": {},
      "outputs": [
        {
          "data": {
            "text/plain": [
              "-1.6448536269514729"
            ]
          },
          "execution_count": 67,
          "metadata": {},
          "output_type": "execute_result"
        }
      ],
      "source": [
        "# B\n",
        "stats.norm.ppf(0.05)"
      ]
    },
    {
      "cell_type": "code",
      "execution_count": 107,
      "metadata": {},
      "outputs": [
        {
          "data": {
            "text/plain": [
              "2.9250000000000114"
            ]
          },
          "execution_count": 107,
          "metadata": {},
          "output_type": "execute_result"
        }
      ],
      "source": [
        "225 + (-1.645) * 135"
      ]
    },
    {
      "cell_type": "code",
      "execution_count": 108,
      "metadata": {},
      "outputs": [
        {
          "data": {
            "text/plain": [
              "18.899999999999977"
            ]
          },
          "execution_count": 108,
          "metadata": {},
          "output_type": "execute_result"
        }
      ],
      "source": [
        "315 + (-1.645) * 180"
      ]
    },
    {
      "cell_type": "markdown",
      "metadata": {},
      "source": [
        "# Set 3"
      ]
    },
    {
      "cell_type": "code",
      "execution_count": 110,
      "metadata": {},
      "outputs": [
        {
          "data": {
            "text/plain": [
              "600.2499999999999"
            ]
          },
          "execution_count": 110,
          "metadata": {},
          "output_type": "execute_result"
        }
      ],
      "source": [
        "# Q8\n",
        "\n",
        "(1.96**2 * 0.5 * (1 - 0.5)) / (0.04**2)"
      ]
    },
    {
      "cell_type": "code",
      "execution_count": 112,
      "metadata": {},
      "outputs": [
        {
          "data": {
            "text/plain": [
              "848.265625"
            ]
          },
          "execution_count": 112,
          "metadata": {},
          "output_type": "execute_result"
        }
      ],
      "source": [
        "# Q9\n",
        "((2.33**2) * 0.5 * (1 - 0.5)) / (0.04**2)"
      ]
    },
    {
      "cell_type": "markdown",
      "metadata": {},
      "source": [
        "# Set 4"
      ]
    },
    {
      "cell_type": "code",
      "execution_count": 113,
      "metadata": {},
      "outputs": [
        {
          "data": {
            "text/plain": [
              "0.10564977366685535"
            ]
          },
          "execution_count": 113,
          "metadata": {},
          "output_type": "execute_result"
        }
      ],
      "source": [
        "# Q3\n",
        "\n",
        "from scipy import stats\n",
        "\n",
        "stats.norm.cdf(-1.25)"
      ]
    },
    {
      "cell_type": "code",
      "execution_count": 115,
      "metadata": {},
      "outputs": [
        {
          "data": {
            "text/plain": [
              "0.10564977366685535"
            ]
          },
          "execution_count": 115,
          "metadata": {},
          "output_type": "execute_result"
        }
      ],
      "source": [
        "1-stats.norm.cdf(1.25)"
      ]
    },
    {
      "cell_type": "code",
      "execution_count": 116,
      "metadata": {},
      "outputs": [
        {
          "data": {
            "text/plain": [
              "245.86239999999998"
            ]
          },
          "execution_count": 116,
          "metadata": {},
          "output_type": "execute_result"
        }
      ],
      "source": [
        "# Q4\n",
        "(1.96**2 * 40**2) / (5**2)"
      ]
    },
    {
      "cell_type": "code",
      "execution_count": 117,
      "metadata": {},
      "outputs": [
        {
          "data": {
            "text/plain": [
              "3.8415999999999997"
            ]
          },
          "execution_count": 117,
          "metadata": {},
          "output_type": "execute_result"
        }
      ],
      "source": [
        "1.96**2"
      ]
    },
    {
      "cell_type": "code",
      "execution_count": 118,
      "metadata": {},
      "outputs": [
        {
          "data": {
            "text/plain": [
              "1600"
            ]
          },
          "execution_count": 118,
          "metadata": {},
          "output_type": "execute_result"
        }
      ],
      "source": [
        "40**2"
      ]
    },
    {
      "cell_type": "code",
      "execution_count": 121,
      "metadata": {},
      "outputs": [
        {
          "data": {
            "text/plain": [
              "6146.5599999999995"
            ]
          },
          "execution_count": 121,
          "metadata": {},
          "output_type": "execute_result"
        }
      ],
      "source": [
        "(1600*3.8415999999999997)"
      ]
    },
    {
      "cell_type": "code",
      "execution_count": 122,
      "metadata": {},
      "outputs": [
        {
          "data": {
            "text/plain": [
              "245.86239999999998"
            ]
          },
          "execution_count": 122,
          "metadata": {},
          "output_type": "execute_result"
        }
      ],
      "source": [
        "6146.5599999999995/25"
      ]
    }
  ],
  "metadata": {
    "colab": {
      "provenance": []
    },
    "kernelspec": {
      "display_name": "Python 3",
      "name": "python3"
    },
    "language_info": {
      "codemirror_mode": {
        "name": "ipython",
        "version": 3
      },
      "file_extension": ".py",
      "mimetype": "text/x-python",
      "name": "python",
      "nbconvert_exporter": "python",
      "pygments_lexer": "ipython3",
      "version": "3.11.1"
    }
  },
  "nbformat": 4,
  "nbformat_minor": 0
}
